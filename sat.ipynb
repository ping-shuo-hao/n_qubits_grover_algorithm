{
 "cells": [
  {
   "cell_type": "code",
   "execution_count": 84,
   "id": "9ab8891b-a212-489f-9879-b817977b6352",
   "metadata": {},
   "outputs": [],
   "source": [
    "from qiskit import QuantumCircuit, transpile, Aer\n",
    "from qiskit.circuit.library import MCMT\n",
    "from qiskit.visualization import plot_histogram\n",
    "from ibm_quantum_widgets import draw_circuit\n",
    "import numpy as np"
   ]
  },
  {
   "cell_type": "code",
   "execution_count": 2,
   "id": "74070ea0-ebb2-433e-8bdd-691cf44acafa",
   "metadata": {},
   "outputs": [],
   "source": [
    "class CNF():\n",
    "    def __init__(self):\n",
    "        self.cluster_num = None\n",
    "        self.vaiable_num = None\n",
    "        self.cnf = None\n",
    "        self.or_number =None\n",
    "    def read_file(self,path):\n",
    "        self.cnf = []\n",
    "        self.or_number =0       \n",
    "        with open(path, 'r') as f:\n",
    "            for line in f:\n",
    "                if line.startswith(\"p\"):\n",
    "                    self.vaiable_num = list(map(int, line.split()[-2]))[0]\n",
    "                    self.cluster_num = list(map(int, line.split()[-1]))[0]\n",
    "                else:\n",
    "                    item = list(map(int, line.split()[:-1]))\n",
    "                    self.cnf.append(item)\n",
    "                    self.or_number += len(item)-1\n",
    "    def print_cnf(self):\n",
    "        print(self.cnf)"
   ]
  },
  {
   "cell_type": "code",
   "execution_count": 80,
   "id": "028fe63f-b804-4d68-9334-a216cfed71d3",
   "metadata": {},
   "outputs": [],
   "source": [
    "class builder():\n",
    "    def __init__(self):\n",
    "        self.circuit = None\n",
    "        \n",
    "    def build(self,path):\n",
    "        c = CNF()\n",
    "        c.read_file(path)\n",
    "        self.initial_circuit(c)\n",
    "        draw_circuit(qc.circuit)\n",
    "        self.build_oracle(c)\n",
    "        draw_circuit(self.circuit)\n",
    "        for i in range(c.vaiable_num):\n",
    "            self.circuit.x(i)\n",
    "        cnz = MCMT('z', num_ctrl_qubits=c.vaiable_num - 1, num_target_qubits=1)\n",
    "        self.circuit.append(cnz, [i for i in range(c.vaiable_num)])\n",
    "        for i in range(c.vaiable_num):\n",
    "            self.circuit.x(i)\n",
    "        for i in range(c.vaiable_num):\n",
    "            self.circuit.h(i)\n",
    "        self.circuit.measure([i for i in range(c.vaiable_num)], [i for i in range(c.vaiable_num)])\n",
    "        draw_circuit(self.circuit)\n",
    "        \n",
    "        \n",
    "    def initial_circuit(self,cnf):\n",
    "        number_of_qubits = cnf.or_number+cnf.vaiable_num+1\n",
    "        self.circuit = QuantumCircuit(number_of_qubits, cnf.vaiable_num)\n",
    "        for i in range(cnf.vaiable_num):\n",
    "            self.circuit.h(i)\n",
    "        self.circuit.x(number_of_qubits-1)\n",
    "        self.circuit.h(number_of_qubits-1)\n",
    "        \n",
    "    def or_gate(self,a,b,current,gate_list):\n",
    "        if a < 0:\n",
    "            gate_list.append(['x', abs(a)-1])\n",
    "        if b < 0:\n",
    "            gate_list.append(['x', abs(b)-1])\n",
    "        gate_list.append(['mcx',[abs(a)-1,abs(b)-1],current-1])\n",
    "        gate_list.append(['cx', abs(a)-1,current-1])\n",
    "        gate_list.append(['cx', abs(b)-1,current-1])\n",
    "        if a < 0:\n",
    "            gate_list.append(['x', abs(a)-1])\n",
    "        if b < 0:\n",
    "            gate_list.append(['x', abs(b)-1])\n",
    "        return gate_list\n",
    "\n",
    "    def build_oracle(self,cnf):\n",
    "        vn = cnf.vaiable_num\n",
    "        cn = cnf.cluster_num\n",
    "        and_qubit = []\n",
    "        oracle = []\n",
    "        current = vn+1 #the start of or qubit\n",
    "        ancilla = cnf.vaiable_num+cnf.or_number+1\n",
    "        for i in range(cn):\n",
    "            for j in range(len(cnf.cnf[i])):\n",
    "                if len(cnf.cnf[i]) == 1:\n",
    "                    and_qubit.append(cnf.cnf[i][0])\n",
    "                    continue\n",
    "                if j+1 < len(cnf.cnf[i]):\n",
    "                    if j == 0:\n",
    "                        oracle = self.or_gate(cnf.cnf[i][j],cnf.cnf[i][j+1],current,oracle)\n",
    "                        current+=1\n",
    "                    else:\n",
    "                        oracle = self.or_gate(current-1, cnf.cnf[i][j + 1], current, oracle)\n",
    "                        current += 1\n",
    "                if j+1 == len(cnf.cnf[i]):\n",
    "                        and_qubit.append(current-1)\n",
    "        and_not =False\n",
    "        for i in and_qubit:\n",
    "            if i < 0:\n",
    "                and_not = True\n",
    "                oracle.append(['x',abs(i)-1])\n",
    "        oracle.append(['mcx',[abs(x)-1 for x in and_qubit],ancilla-1])\n",
    "        for i in and_qubit:\n",
    "            if i < 0:\n",
    "                oracle.append(['x',abs(i)-1])\n",
    "        if and_not:\n",
    "            oracle = oracle + [oracle[i] for i in range(len(oracle)-4,-1, -1)]\n",
    "        else:\n",
    "            oracle = oracle + [oracle[i] for i in range(len(oracle)-2,-1, -1)]\n",
    "        print(oracle)\n",
    "        for i in oracle:\n",
    "            if len(i) == 2:\n",
    "                getattr(self.circuit, i[0])(i[1])\n",
    "            if len(i) == 3:\n",
    "                getattr(self.circuit, i[0])(i[1],i[2])\n",
    "        for i in range(cnf.vaiable_num):\n",
    "            self.circuit.h(i)\n",
    "        self.circuit.h(ancilla-1)\n",
    "\n",
    "\n",
    "\n",
    "                    "
   ]
  },
  {
   "cell_type": "code",
   "execution_count": 81,
   "id": "61fa5df3-e738-4fe1-b927-e5edabac93b0",
   "metadata": {},
   "outputs": [
    {
     "data": {
      "application/vnd.jupyter.widget-view+json": {
       "model_id": "c4e641bd19e446fab639cc955f4778c0",
       "version_major": 2,
       "version_minor": 0
      },
      "text/plain": [
       "CircuitComposer(circuit=<qiskit.circuit.quantumcircuit.QuantumCircuit object at 0x7fc58f54ef70>, editable=Fals…"
      ]
     },
     "metadata": {},
     "output_type": "display_data"
    },
    {
     "name": "stdout",
     "output_type": "stream",
     "text": [
      "[['mcx', [0, 1], 2], ['cx', 0, 2], ['cx', 1, 2], ['x', 1], ['mcx', [0, 1], 3], ['cx', 0, 3], ['cx', 1, 3], ['x', 1], ['x', 0], ['mcx', [0, 1], 4], ['cx', 0, 4], ['cx', 1, 4], ['x', 0], ['mcx', [2, 3, 4], 5], ['x', 0], ['cx', 1, 4], ['cx', 0, 4], ['mcx', [0, 1], 4], ['x', 0], ['x', 1], ['cx', 1, 3], ['cx', 0, 3], ['mcx', [0, 1], 3], ['x', 1], ['cx', 1, 2], ['cx', 0, 2], ['mcx', [0, 1], 2]]\n"
     ]
    },
    {
     "data": {
      "application/vnd.jupyter.widget-view+json": {
       "model_id": "e7dc565824b84e54bb96f2906b66a9de",
       "version_major": 2,
       "version_minor": 0
      },
      "text/plain": [
       "CircuitComposer(circuit=<qiskit.circuit.quantumcircuit.QuantumCircuit object at 0x7fc58f54ef70>, editable=Fals…"
      ]
     },
     "metadata": {},
     "output_type": "display_data"
    },
    {
     "data": {
      "application/vnd.jupyter.widget-view+json": {
       "model_id": "58298212e8bb464a9677591a2b9c24b7",
       "version_major": 2,
       "version_minor": 0
      },
      "text/plain": [
       "CircuitComposer(circuit=<qiskit.circuit.quantumcircuit.QuantumCircuit object at 0x7fc58f54ef70>, editable=Fals…"
      ]
     },
     "metadata": {},
     "output_type": "display_data"
    },
    {
     "name": "stdout",
     "output_type": "stream",
     "text": [
      "OPENQASM 2.0;\n",
      "include \"qelib1.inc\";\n",
      "gate mcx q0,q1,q2,q3 { h q3; p(pi/8) q0; p(pi/8) q1; p(pi/8) q2; p(pi/8) q3; cx q0,q1; p(-pi/8) q1; cx q0,q1; cx q1,q2; p(-pi/8) q2; cx q0,q2; p(pi/8) q2; cx q1,q2; p(-pi/8) q2; cx q0,q2; cx q2,q3; p(-pi/8) q3; cx q1,q3; p(pi/8) q3; cx q2,q3; p(-pi/8) q3; cx q0,q3; p(pi/8) q3; cx q2,q3; p(-pi/8) q3; cx q1,q3; p(pi/8) q3; cx q2,q3; p(-pi/8) q3; cx q0,q3; h q3; }\n",
      "gate mcmt q0,q1 { cz q0,q1; }\n",
      "qreg q[6];\n",
      "creg c[2];\n",
      "h q[0];\n",
      "h q[1];\n",
      "x q[5];\n",
      "h q[5];\n",
      "ccx q[0],q[1],q[2];\n",
      "cx q[0],q[2];\n",
      "cx q[1],q[2];\n",
      "x q[1];\n",
      "ccx q[0],q[1],q[3];\n",
      "cx q[0],q[3];\n",
      "cx q[1],q[3];\n",
      "x q[1];\n",
      "x q[0];\n",
      "ccx q[0],q[1],q[4];\n",
      "cx q[0],q[4];\n",
      "cx q[1],q[4];\n",
      "x q[0];\n",
      "mcx q[2],q[3],q[4],q[5];\n",
      "x q[0];\n",
      "cx q[1],q[4];\n",
      "cx q[0],q[4];\n",
      "ccx q[0],q[1],q[4];\n",
      "x q[0];\n",
      "x q[1];\n",
      "cx q[1],q[3];\n",
      "cx q[0],q[3];\n",
      "ccx q[0],q[1],q[3];\n",
      "x q[1];\n",
      "cx q[1],q[2];\n",
      "cx q[0],q[2];\n",
      "ccx q[0],q[1],q[2];\n",
      "h q[0];\n",
      "h q[1];\n",
      "h q[5];\n",
      "x q[0];\n",
      "x q[1];\n",
      "mcmt q[0],q[1];\n",
      "x q[0];\n",
      "x q[1];\n",
      "h q[0];\n",
      "h q[1];\n",
      "measure q[0] -> c[0];\n",
      "measure q[1] -> c[1];\n",
      "\n"
     ]
    }
   ],
   "source": [
    "qc = builder()\n",
    "qc.build('test.txt')\n",
    "qc.circuit.draw()\n",
    "print(qc.circuit.qasm())"
   ]
  },
  {
   "cell_type": "code",
   "execution_count": 87,
   "id": "2f875539-7ce5-4b88-8d58-47b04b4a4241",
   "metadata": {},
   "outputs": [
    {
     "data": {
      "image/png": "[encoded data removed]",
      "text/plain": [
       "<Figure size 504x360 with 1 Axes>"
      ]
     },
     "execution_count": 87,
     "metadata": {},
     "output_type": "execute_result"
    }
   ],
   "source": [
    "simulator = Aer.get_backend('aer_simulator')\n",
    "compiled_circuit = transpile(qc.circuit, simulator)\n",
    "result = simulator.run(compiled_circuit).result()\n",
    "counts = result.get_counts(compiled_circuit)\n",
    "plot_histogram(counts,title = \"solution\")\n"
   ]
  },
  {
   "cell_type": "code",
   "execution_count": 89,
   "id": "18d16f87-7b8a-414e-b47d-d553b910f427",
   "metadata": {},
   "outputs": [
    {
     "name": "stdout",
     "output_type": "stream",
     "text": [
      "Traceback \u001b[1;36m(most recent call last)\u001b[0m:\n",
      "  Input \u001b[0;32mIn [89]\u001b[0m in \u001b[0;35m<cell line: 5>\u001b[0m\n",
      "    job = service.run(program_id=\"SAT1\",\n",
      "\u001b[1;36m  File \u001b[1;32m/opt/conda/lib/python3.8/site-packages/qiskit_ibm_runtime/qiskit_runtime_service.py:959\u001b[1;36m in \u001b[1;35mrun\u001b[1;36m\u001b[0m\n",
      "\u001b[1;33m    raise RuntimeProgramNotFound(\u001b[0m\n",
      "\u001b[1;31mRuntimeProgramNotFound\u001b[0m\u001b[1;31m:\u001b[0m 'Program not found: 404 Client Error: Not Found for url: https://runtime-us-east.quantum-computing.ibm.com/jobs. {\"errors\":[{\"code\":\"not_found\",\"message\":\"program not found\",\"more_info\":\"https://cloud.ibm.com/apidocs/quantum-computing#error-handling\"}],\"trace\":\"ceifujliuboftdmt6q0g\"}'\n",
      "\n",
      "Use %tb to get the full traceback.\n"
     ]
    },
    {
     "data": {
      "text/html": [
       "\n",
       "<style>\n",
       ".button {\n",
       "  border: none;\n",
       "  color: white;\n",
       "  padding: 4px 8px;\n",
       "  text-align: center;\n",
       "  text-decoration: none;\n",
       "  display: inline-block;\n",
       "  font-size: 12px;\n",
       "  margin: 4px 2px;\n",
       "  transition-duration: 0.2s;\n",
       "  cursor: pointer;\n",
       "}\n",
       ".iqx-button {\n",
       "  background-color: #0f62fe; \n",
       "  color: white; \n",
       "}\n",
       ".iqx-button:hover {\n",
       "  background-color: #0043ce;\n",
       "  color: white;\n",
       "}\n",
       "</style>\n",
       "<a href=\"https://stackoverflow.com/search?q=RuntimeProgramNotFound: Program not found: 404 Client Error: Not Found for url: https://runtime-us-east.quantum-computing.ibm.com/jobs. {\"errors\":[{\"code\":\"not_found\",\"message\":\"program not found\",\"more_info\":\"https://cloud.ibm.com/apidocs/quantum-computing#error-handling\"}],\"trace\":\"ceifujliuboftdmt6q0g\"}\" target='_blank'><button class='button iqx-button'>Search for solution online</button></a>\n"
      ],
      "text/plain": [
       "<IPython.core.display.HTML object>"
      ]
     },
     "metadata": {},
     "output_type": "display_data"
    }
   ],
   "source": []
  },
  {
   "cell_type": "code",
   "execution_count": null,
   "id": "34d17c19-5d67-44be-9c98-698409603b36",
   "metadata": {},
   "outputs": [],
   "source": []
  }
 ],
 "metadata": {
  "kernelspec": {
   "display_name": "Python 3 (ipykernel)",
   "language": "python",
   "name": "python3"
  },
  "language_info": {
   "codemirror_mode": {
    "name": "ipython",
    "version": 3
   },
   "file_extension": ".py",
   "mimetype": "text/x-python",
   "name": "python",
   "nbconvert_exporter": "python",
   "pygments_lexer": "ipython3",
   "version": "3.8.13"
  },
  "widgets": {
   "application/vnd.jupyter.widget-state+json": {
    "state": {
     "03e8bd9875554173a9ea8973eb173844": {
      "model_module": "@jupyter-widgets/base",
      "model_module_version": "1.2.0",
      "model_name": "LayoutModel",
      "state": {}
     },
     "07d70ce27ccd4b2291d650ceb81a46cd": {
      "model_module": "@quantum/lab-widgets",
      "model_module_version": "4.0.6",
      "model_name": "CircuitComposerModel",
      "state": {
       "circuit": "\"OPENQASM 2.0;\\ninclude \\\"qelib1.inc\\\";\\nqreg q[6];\\ncreg c[3];\\nh q[0];\\nh q[1];\\nh q[2];\\nx q[5];\\nh q[5];\\nccx q[0],q[1],q[3];\\ncx q[0],q[3];\\ncx q[1],q[3];\\nx q[1];\\nx q[2];\\nccx q[1],q[2],q[4];\\ncx q[1],q[4];\\ncx q[2],q[4];\\nx q[1];\\nx q[2];\\nccx q[3],q[4],q[5];\\nx q[2];\\nx q[1];\\ncx q[2],q[4];\\ncx q[1],q[4];\\nccx q[1],q[2],q[4];\\nx q[2];\\nx q[1];\\ncx q[1],q[3];\\ncx q[0],q[3];\\nccx q[0],q[1],q[3];\\nh q[0];\\nh q[1];\\nh q[2];\\nh q[5];\\n\"",
       "editable": false,
       "layout": "IPY_MODEL_b125861a908c4d0a87777ee51bc91639",
       "qiskit_code_cell_index": -1
      }
     },
     "09c86b77d5184525a6566d1cb8a788c3": {
      "model_module": "@quantum/lab-widgets",
      "model_module_version": "4.0.6",
      "model_name": "CircuitComposerModel",
      "state": {
       "circuit": "\"OPENQASM 2.0;\\ninclude \\\"qelib1.inc\\\";\\ngate mcx q0,q1,q2,q3 { h q3; p(pi/8) q0; p(pi/8) q1; p(pi/8) q2; p(pi/8) q3; cx q0,q1; p(-pi/8) q1; cx q0,q1; cx q1,q2; p(-pi/8) q2; cx q0,q2; p(pi/8) q2; cx q1,q2; p(-pi/8) q2; cx q0,q2; cx q2,q3; p(-pi/8) q3; cx q1,q3; p(pi/8) q3; cx q2,q3; p(-pi/8) q3; cx q0,q3; p(pi/8) q3; cx q2,q3; p(-pi/8) q3; cx q1,q3; p(pi/8) q3; cx q2,q3; p(-pi/8) q3; cx q0,q3; h q3; }\\ngate mcmt q0,q1 { cz q0,q1; }\\nqreg q[6];\\ncreg c[2];\\nh q[0];\\nh q[1];\\nx q[5];\\nh q[5];\\nccx q[0],q[1],q[2];\\ncx q[0],q[2];\\ncx q[1],q[2];\\nx q[1];\\nccx q[0],q[1],q[3];\\ncx q[0],q[3];\\ncx q[1],q[3];\\nx q[1];\\nx q[0];\\nccx q[0],q[1],q[4];\\ncx q[0],q[4];\\ncx q[1],q[4];\\nx q[0];\\nmcx q[2],q[3],q[4],q[5];\\nx q[0];\\ncx q[1],q[4];\\ncx q[0],q[4];\\nccx q[0],q[1],q[4];\\nx q[0];\\nx q[1];\\ncx q[1],q[3];\\ncx q[0],q[3];\\nccx q[0],q[1],q[3];\\nx q[1];\\ncx q[1],q[2];\\ncx q[0],q[2];\\nccx q[0],q[1],q[2];\\nh q[0];\\nh q[1];\\nh q[5];\\nx q[0];\\nx q[1];\\nmcmt q[0],q[1];\\nx q[0];\\nx q[1];\\nh q[0];\\nh q[1];\\n\"",
       "editable": false,
       "layout": "IPY_MODEL_cb4d2169bd74456bb9152a9f815b96e4",
       "qiskit_code_cell_index": -1
      }
     },
     "0b2933a56abd42f0b5c4112c652804c5": {
      "model_module": "@jupyter-widgets/base",
      "model_module_version": "1.2.0",
      "model_name": "LayoutModel",
      "state": {}
     },
     "120e84c96e404bf7b431eb5aeceaf01b": {
      "model_module": "@quantum/lab-widgets",
      "model_module_version": "4.0.6",
      "model_name": "CircuitComposerModel",
      "state": {
       "circuit": "\"OPENQASM 2.0;\\ninclude \\\"qelib1.inc\\\";\\nqreg q[5];\\ncreg c[3];\\nh q[0];\\nh q[1];\\nh q[2];\\nx q[4];\\nh q[4];\\n\"",
       "editable": false,
       "layout": "IPY_MODEL_6076464f75de468193509b6bb8ac48eb",
       "qiskit_code_cell_index": -1
      }
     },
     "1276acb949854a61bdd5366a281ff2c8": {
      "model_module": "@quantum/lab-widgets",
      "model_module_version": "4.0.6",
      "model_name": "CircuitComposerModel",
      "state": {
       "circuit": "\"OPENQASM 2.0;\\ninclude \\\"qelib1.inc\\\";\\nqreg q[5];\\ncreg c[3];\\nh q[0];\\nh q[1];\\nh q[2];\\nx q[4];\\nh q[4];\\nx q[1];\\nx q[2];\\nccx q[1],q[2],q[3];\\ncx q[1],q[3];\\ncx q[2],q[3];\\nx q[1];\\nx q[2];\\nx q[0];\\nccx q[0],q[3],q[4];\\nx q[1];\\nx q[2];\\nx q[1];\\ncx q[2],q[3];\\ncx q[1],q[3];\\nccx q[1],q[2],q[3];\\nx q[2];\\nx q[1];\\nh q[0];\\nh q[1];\\nh q[2];\\nh q[4];\\n\"",
       "editable": false,
       "layout": "IPY_MODEL_ba778b98a12340c0856956969477698f",
       "qiskit_code_cell_index": -1
      }
     },
     "12a8b2e1116b4018b406579a00370f3b": {
      "model_module": "@quantum/lab-widgets",
      "model_module_version": "4.0.6",
      "model_name": "CircuitComposerModel",
      "state": {
       "circuit": "\"OPENQASM 2.0;\\ninclude \\\"qelib1.inc\\\";\\nqreg q[6];\\ncreg c[3];\\nh q[0];\\nh q[1];\\nh q[2];\\nx q[5];\\nh q[5];\\nccx q[0],q[1],q[3];\\ncx q[0],q[3];\\ncx q[1],q[3];\\nx q[1];\\nx q[2];\\nccx q[1],q[2],q[4];\\ncx q[1],q[4];\\ncx q[2],q[4];\\nx q[1];\\nx q[2];\\nccx q[3],q[4],q[5];\\nx q[2];\\nx q[1];\\ncx q[2],q[4];\\ncx q[1],q[4];\\nccx q[1],q[2],q[4];\\nx q[2];\\nx q[1];\\ncx q[1],q[3];\\ncx q[0],q[3];\\nccx q[0],q[1],q[3];\\nh q[0];\\nh q[1];\\nh q[2];\\nx q[5];\\n\"",
       "editable": false,
       "layout": "IPY_MODEL_16cebfba125b41d08882c00e53d4b5cc",
       "qiskit_code_cell_index": -1
      }
     },
     "16cebfba125b41d08882c00e53d4b5cc": {
      "model_module": "@jupyter-widgets/base",
      "model_module_version": "1.2.0",
      "model_name": "LayoutModel",
      "state": {}
     },
     "1cfe878473fa4e04a775dc0d9bf44bde": {
      "model_module": "@quantum/lab-widgets",
      "model_module_version": "4.0.6",
      "model_name": "CircuitComposerModel",
      "state": {
       "circuit": "\"OPENQASM 2.0;\\ninclude \\\"qelib1.inc\\\";\\nqreg q[6];\\ncreg c[3];\\nh q[0];\\nh q[1];\\nh q[2];\\nx q[5];\\nh q[5];\\n\"",
       "editable": false,
       "layout": "IPY_MODEL_99d65b909133475e8b82d511613dc4e0",
       "qiskit_code_cell_index": -1
      }
     },
     "1ebd8c2231fd4cd69c36475570af01a2": {
      "model_module": "@quantum/lab-widgets",
      "model_module_version": "4.0.6",
      "model_name": "CircuitComposerModel",
      "state": {
       "circuit": "\"OPENQASM 2.0;\\ninclude \\\"qelib1.inc\\\";\\nqreg q[5];\\ncreg c[3];\\nh q[0];\\nh q[1];\\nh q[2];\\nx q[4];\\nh q[4];\\n\"",
       "editable": false,
       "layout": "IPY_MODEL_8b109c7270b1464bb05579bfad23a890",
       "qiskit_code_cell_index": -1
      }
     },
     "2063d04317d9406e86f2e742dbeee930": {
      "model_module": "@quantum/lab-widgets",
      "model_module_version": "4.0.6",
      "model_name": "CircuitComposerModel",
      "state": {
       "circuit": "\"OPENQASM 2.0;\\ninclude \\\"qelib1.inc\\\";\\nqreg q[6];\\ncreg c[3];\\nh q[0];\\nh q[1];\\nh q[2];\\nx q[5];\\nh q[5];\\nccx q[0],q[1],q[3];\\ncx q[0],q[3];\\ncx q[1],q[3];\\nx q[1];\\nx q[2];\\nccx q[1],q[2],q[4];\\ncx q[1],q[4];\\ncx q[2],q[4];\\nx q[1];\\nx q[2];\\nccx q[3],q[4],q[5];\\nx q[2];\\nx q[1];\\ncx q[2],q[4];\\ncx q[1],q[4];\\nccx q[1],q[2],q[4];\\nx q[2];\\nx q[1];\\ncx q[1],q[3];\\ncx q[0],q[3];\\nccx q[0],q[1],q[3];\\nh q[0];\\nh q[1];\\nh q[2];\\nh q[5];\\n\"",
       "editable": false,
       "layout": "IPY_MODEL_6d98af7807f943d5bdf294e2c5fe53b3",
       "qiskit_code_cell_index": -1
      }
     },
     "22a9594b829c4bffb9f4c1a461accf0d": {
      "model_module": "@jupyter-widgets/base",
      "model_module_version": "1.2.0",
      "model_name": "LayoutModel",
      "state": {}
     },
     "23549867b88a4201983a1e801f7f6d9c": {
      "model_module": "@jupyter-widgets/base",
      "model_module_version": "1.2.0",
      "model_name": "LayoutModel",
      "state": {}
     },
     "251ec5ec4d554aaea82dc53a5ed9b542": {
      "model_module": "@jupyter-widgets/base",
      "model_module_version": "1.2.0",
      "model_name": "LayoutModel",
      "state": {}
     },
     "252fca223084413f84afb1286d56649f": {
      "model_module": "@jupyter-widgets/base",
      "model_module_version": "1.2.0",
      "model_name": "LayoutModel",
      "state": {}
     },
     "2c4a38f9944445468426d298b2d3ddbc": {
      "model_module": "@jupyter-widgets/base",
      "model_module_version": "1.2.0",
      "model_name": "LayoutModel",
      "state": {}
     },
     "319c70233fa04a22b252e24bfe1b9ad3": {
      "model_module": "@quantum/lab-widgets",
      "model_module_version": "4.0.6",
      "model_name": "CircuitComposerModel",
      "state": {
       "circuit": "\"OPENQASM 2.0;\\ninclude \\\"qelib1.inc\\\";\\ngate mcx q0,q1,q2,q3 { h q3; p(pi/8) q0; p(pi/8) q1; p(pi/8) q2; p(pi/8) q3; cx q0,q1; p(-pi/8) q1; cx q0,q1; cx q1,q2; p(-pi/8) q2; cx q0,q2; p(pi/8) q2; cx q1,q2; p(-pi/8) q2; cx q0,q2; cx q2,q3; p(-pi/8) q3; cx q1,q3; p(pi/8) q3; cx q2,q3; p(-pi/8) q3; cx q0,q3; p(pi/8) q3; cx q2,q3; p(-pi/8) q3; cx q1,q3; p(pi/8) q3; cx q2,q3; p(-pi/8) q3; cx q0,q3; h q3; }\\nqreg q[6];\\ncreg c[2];\\nh q[0];\\nh q[1];\\nx q[5];\\nh q[5];\\nccx q[0],q[1],q[2];\\ncx q[0],q[2];\\ncx q[1],q[2];\\nx q[1];\\nccx q[0],q[1],q[3];\\ncx q[0],q[3];\\ncx q[1],q[3];\\nx q[1];\\nx q[0];\\nccx q[0],q[1],q[4];\\ncx q[0],q[4];\\ncx q[1],q[4];\\nx q[0];\\nmcx q[2],q[3],q[4],q[5];\\nx q[0];\\ncx q[1],q[4];\\ncx q[0],q[4];\\nccx q[0],q[1],q[4];\\nx q[0];\\nx q[1];\\ncx q[1],q[3];\\ncx q[0],q[3];\\nccx q[0],q[1],q[3];\\nx q[1];\\ncx q[1],q[2];\\ncx q[0],q[2];\\nccx q[0],q[1],q[2];\\nh q[0];\\nh q[1];\\nh q[5];\\n\"",
       "editable": false,
       "layout": "IPY_MODEL_bbd1776a8585436dbe61971add8d7b6e",
       "qiskit_code_cell_index": -1
      }
     },
     "326a75ba1a9943a09db97d020971da03": {
      "model_module": "@quantum/lab-widgets",
      "model_module_version": "4.0.6",
      "model_name": "CircuitComposerModel",
      "state": {
       "circuit": "\"OPENQASM 2.0;\\ninclude \\\"qelib1.inc\\\";\\nqreg q[6];\\ncreg c[3];\\nh q[0];\\nh q[1];\\nh q[2];\\nx q[5];\\nh q[5];\\n\"",
       "editable": false,
       "layout": "IPY_MODEL_fb0679368b744e1791c25897c8885fdc",
       "qiskit_code_cell_index": -1
      }
     },
     "39b95818b73e4fe4a613d41b3a3b20d2": {
      "model_module": "@quantum/lab-widgets",
      "model_module_version": "4.0.6",
      "model_name": "CircuitComposerModel",
      "state": {
       "circuit": "\"OPENQASM 2.0;\\ninclude \\\"qelib1.inc\\\";\\nqreg q[6];\\ncreg c[3];\\nh q[0];\\nh q[1];\\nh q[2];\\nx q[5];\\nh q[5];\\n\"",
       "editable": false,
       "layout": "IPY_MODEL_2c4a38f9944445468426d298b2d3ddbc",
       "qiskit_code_cell_index": -1
      }
     },
     "3c9ad0162d51426c8dd0b535fca4fe65": {
      "model_module": "@quantum/lab-widgets",
      "model_module_version": "4.0.6",
      "model_name": "CircuitComposerModel",
      "state": {
       "circuit": "\"OPENQASM 2.0;\\ninclude \\\"qelib1.inc\\\";\\nqreg q[6];\\ncreg c[2];\\nh q[0];\\nh q[1];\\nx q[5];\\nh q[5];\\n\"",
       "editable": false,
       "layout": "IPY_MODEL_9e3f3893013b4f9fae96aeee707c098f",
       "qiskit_code_cell_index": -1
      }
     },
     "42f46c82caae43d29372df27c2330856": {
      "model_module": "@jupyter-widgets/base",
      "model_module_version": "1.2.0",
      "model_name": "LayoutModel",
      "state": {}
     },
     "4422dcc67fa047faa569ee1381480898": {
      "model_module": "@quantum/lab-widgets",
      "model_module_version": "4.0.6",
      "model_name": "CircuitComposerModel",
      "state": {
       "circuit": "\"OPENQASM 2.0;\\ninclude \\\"qelib1.inc\\\";\\ngate mcx q0,q1,q2,q3 { h q3; p(pi/8) q0; p(pi/8) q1; p(pi/8) q2; p(pi/8) q3; cx q0,q1; p(-pi/8) q1; cx q0,q1; cx q1,q2; p(-pi/8) q2; cx q0,q2; p(pi/8) q2; cx q1,q2; p(-pi/8) q2; cx q0,q2; cx q2,q3; p(-pi/8) q3; cx q1,q3; p(pi/8) q3; cx q2,q3; p(-pi/8) q3; cx q0,q3; p(pi/8) q3; cx q2,q3; p(-pi/8) q3; cx q1,q3; p(pi/8) q3; cx q2,q3; p(-pi/8) q3; cx q0,q3; h q3; }\\nqreg q[6];\\ncreg c[2];\\nh q[0];\\nh q[1];\\nx q[5];\\nh q[5];\\nccx q[0],q[1],q[2];\\ncx q[0],q[2];\\ncx q[1],q[2];\\nx q[1];\\nccx q[0],q[1],q[3];\\ncx q[0],q[3];\\ncx q[1],q[3];\\nx q[1];\\nx q[0];\\nccx q[0],q[1],q[4];\\ncx q[0],q[4];\\ncx q[1],q[4];\\nx q[0];\\nmcx q[2],q[3],q[4],q[5];\\nx q[0];\\ncx q[1],q[4];\\ncx q[0],q[4];\\nccx q[0],q[1],q[4];\\nx q[0];\\nx q[1];\\ncx q[1],q[3];\\ncx q[0],q[3];\\nccx q[0],q[1],q[3];\\nx q[1];\\ncx q[1],q[2];\\ncx q[0],q[2];\\nccx q[0],q[1],q[2];\\nh q[0];\\nh q[1];\\nh q[5];\\n\"",
       "editable": false,
       "layout": "IPY_MODEL_64599f0ae00f4327a656a083b0f0bd16",
       "qiskit_code_cell_index": -1
      }
     },
     "45faadf866644f76b4a8ec3f0eb2ec5d": {
      "model_module": "@quantum/lab-widgets",
      "model_module_version": "4.0.6",
      "model_name": "CircuitComposerModel",
      "state": {
       "circuit": "\"OPENQASM 2.0;\\ninclude \\\"qelib1.inc\\\";\\nqreg q[6];\\ncreg c[2];\\nh q[0];\\nh q[1];\\nx q[5];\\nh q[5];\\n\"",
       "editable": false,
       "layout": "IPY_MODEL_b7bc0e2699634a9d8c9c681ac9607adc",
       "qiskit_code_cell_index": -1
      }
     },
     "475b5d882d8f4ddcb25194ee7ca55848": {
      "model_module": "@jupyter-widgets/base",
      "model_module_version": "1.2.0",
      "model_name": "LayoutModel",
      "state": {}
     },
     "4bdf6c19fdb547399d6c8832d58b5376": {
      "model_module": "@quantum/lab-widgets",
      "model_module_version": "4.0.6",
      "model_name": "CircuitComposerModel",
      "state": {
       "circuit": "\"OPENQASM 2.0;\\ninclude \\\"qelib1.inc\\\";\\nqreg q[6];\\ncreg c[3];\\nh q[0];\\nh q[1];\\nh q[2];\\nx q[5];\\nh q[5];\\nccx q[0],q[1],q[3];\\ncx q[0],q[3];\\ncx q[1],q[3];\\nx q[1];\\nx q[2];\\nccx q[1],q[2],q[4];\\ncx q[1],q[4];\\ncx q[2],q[4];\\nx q[1];\\nx q[2];\\nccx q[3],q[4],q[5];\\nx q[2];\\nx q[1];\\ncx q[2],q[4];\\ncx q[1],q[4];\\nccx q[1],q[2],q[4];\\nx q[2];\\nx q[1];\\ncx q[1],q[3];\\ncx q[0],q[3];\\nccx q[0],q[1],q[3];\\nh q[0];\\nh q[1];\\nh q[2];\\nh q[5];\\n\"",
       "editable": false,
       "layout": "IPY_MODEL_b6fc016073aa4e58a41961e227c810fe",
       "qiskit_code_cell_index": -1
      }
     },
     "512d70e51d23498d8a0110e1b221de1d": {
      "model_module": "@quantum/lab-widgets",
      "model_module_version": "4.0.6",
      "model_name": "CircuitComposerModel",
      "state": {
       "circuit": "\"OPENQASM 2.0;\\ninclude \\\"qelib1.inc\\\";\\ngate mcmt q0,q1,q2 { ccz q0,q1,q2; }\\nqreg q[6];\\ncreg c[3];\\nh q[0];\\nh q[1];\\nh q[2];\\nx q[5];\\nh q[5];\\nx q[0];\\nx q[1];\\nx q[2];\\nh q[0];\\nh q[1];\\nh q[2];\\nmcmt q[0],q[1],q[5];\\ncx q[3],q[0];\\ncx q[3],q[1];\\nx q[1];\\nx q[2];\\ncx q[4],q[1];\\ncx q[4],q[2];\\nx q[1];\\nx q[2];\\nx q[2];\\nx q[1];\\ncx q[4],q[2];\\ncx q[4],q[1];\\nx q[2];\\nx q[1];\\ncx q[3],q[1];\\ncx q[3],q[0];\\nh q[0];\\nh q[1];\\nh q[2];\\nx q[5];\\n\"",
       "editable": false,
       "layout": "IPY_MODEL_23549867b88a4201983a1e801f7f6d9c",
       "qiskit_code_cell_index": -1
      }
     },
     "567cf1dfbed54a42969be1c6d0b7d60e": {
      "model_module": "@jupyter-widgets/base",
      "model_module_version": "1.2.0",
      "model_name": "LayoutModel",
      "state": {}
     },
     "58298212e8bb464a9677591a2b9c24b7": {
      "model_module": "@quantum/lab-widgets",
      "model_module_version": "4.0.6",
      "model_name": "CircuitComposerModel",
      "state": {
       "circuit": "\"OPENQASM 2.0;\\ninclude \\\"qelib1.inc\\\";\\ngate mcx q0,q1,q2,q3 { h q3; p(pi/8) q0; p(pi/8) q1; p(pi/8) q2; p(pi/8) q3; cx q0,q1; p(-pi/8) q1; cx q0,q1; cx q1,q2; p(-pi/8) q2; cx q0,q2; p(pi/8) q2; cx q1,q2; p(-pi/8) q2; cx q0,q2; cx q2,q3; p(-pi/8) q3; cx q1,q3; p(pi/8) q3; cx q2,q3; p(-pi/8) q3; cx q0,q3; p(pi/8) q3; cx q2,q3; p(-pi/8) q3; cx q1,q3; p(pi/8) q3; cx q2,q3; p(-pi/8) q3; cx q0,q3; h q3; }\\ngate mcmt q0,q1 { cz q0,q1; }\\nqreg q[6];\\ncreg c[2];\\nh q[0];\\nh q[1];\\nx q[5];\\nh q[5];\\nccx q[0],q[1],q[2];\\ncx q[0],q[2];\\ncx q[1],q[2];\\nx q[1];\\nccx q[0],q[1],q[3];\\ncx q[0],q[3];\\ncx q[1],q[3];\\nx q[1];\\nx q[0];\\nccx q[0],q[1],q[4];\\ncx q[0],q[4];\\ncx q[1],q[4];\\nx q[0];\\nmcx q[2],q[3],q[4],q[5];\\nx q[0];\\ncx q[1],q[4];\\ncx q[0],q[4];\\nccx q[0],q[1],q[4];\\nx q[0];\\nx q[1];\\ncx q[1],q[3];\\ncx q[0],q[3];\\nccx q[0],q[1],q[3];\\nx q[1];\\ncx q[1],q[2];\\ncx q[0],q[2];\\nccx q[0],q[1],q[2];\\nh q[0];\\nh q[1];\\nh q[5];\\nx q[0];\\nx q[1];\\nmcmt q[0],q[1];\\nx q[0];\\nx q[1];\\nh q[0];\\nh q[1];\\nmeasure q[0] -> c[0];\\nmeasure q[1] -> c[1];\\n\"",
       "editable": false,
       "layout": "IPY_MODEL_42f46c82caae43d29372df27c2330856",
       "qiskit_code_cell_index": -1
      }
     },
     "58e8d5a9715640879f07993dc847aed5": {
      "model_module": "@jupyter-widgets/base",
      "model_module_version": "1.2.0",
      "model_name": "LayoutModel",
      "state": {}
     },
     "6076464f75de468193509b6bb8ac48eb": {
      "model_module": "@jupyter-widgets/base",
      "model_module_version": "1.2.0",
      "model_name": "LayoutModel",
      "state": {}
     },
     "64599f0ae00f4327a656a083b0f0bd16": {
      "model_module": "@jupyter-widgets/base",
      "model_module_version": "1.2.0",
      "model_name": "LayoutModel",
      "state": {}
     },
     "69a0e3048108467387ca73accea5c665": {
      "model_module": "@jupyter-widgets/base",
      "model_module_version": "1.2.0",
      "model_name": "LayoutModel",
      "state": {}
     },
     "6d98af7807f943d5bdf294e2c5fe53b3": {
      "model_module": "@jupyter-widgets/base",
      "model_module_version": "1.2.0",
      "model_name": "LayoutModel",
      "state": {}
     },
     "7a8aac0f7e5849509349f5960948bc85": {
      "model_module": "@quantum/lab-widgets",
      "model_module_version": "4.0.6",
      "model_name": "CircuitComposerModel",
      "state": {
       "circuit": "\"OPENQASM 2.0;\\ninclude \\\"qelib1.inc\\\";\\nqreg q[6];\\ncreg c[3];\\nh q[0];\\nh q[1];\\nh q[2];\\nx q[5];\\nh q[5];\\nccx q[0],q[1],q[3];\\ncx q[0],q[3];\\ncx q[1],q[3];\\nx q[1];\\nx q[2];\\nccx q[1],q[2],q[4];\\ncx q[1],q[4];\\ncx q[2],q[4];\\nx q[1];\\nx q[2];\\nccx q[3],q[4],q[5];\\nx q[2];\\nx q[1];\\ncx q[2],q[4];\\ncx q[1],q[4];\\nccx q[1],q[2],q[4];\\nx q[2];\\nx q[1];\\ncx q[1],q[3];\\ncx q[0],q[3];\\nccx q[0],q[1],q[3];\\nh q[0];\\nh q[1];\\nh q[2];\\nh q[5];\\n\"",
       "editable": false,
       "layout": "IPY_MODEL_ad0bb1fb08574589a2868811928390ce",
       "qiskit_code_cell_index": -1
      }
     },
     "7e87db6ae0b442fbb49a3892fea384e5": {
      "model_module": "@quantum/lab-widgets",
      "model_module_version": "4.0.6",
      "model_name": "CircuitComposerModel",
      "state": {
       "circuit": "\"OPENQASM 2.0;\\ninclude \\\"qelib1.inc\\\";\\ngate mcmt q0,q1,q2 { ccz q0,q1,q2; }\\nqreg q[6];\\ncreg c[3];\\nh q[0];\\nh q[1];\\nh q[2];\\nx q[5];\\nh q[5];\\nccx q[0],q[1],q[3];\\ncx q[0],q[3];\\ncx q[1],q[3];\\nx q[1];\\nx q[2];\\nccx q[1],q[2],q[4];\\ncx q[1],q[4];\\ncx q[2],q[4];\\nx q[1];\\nx q[2];\\nccx q[3],q[4],q[5];\\nx q[2];\\nx q[1];\\ncx q[2],q[4];\\ncx q[1],q[4];\\nccx q[1],q[2],q[4];\\nx q[2];\\nx q[1];\\ncx q[1],q[3];\\ncx q[0],q[3];\\nccx q[0],q[1],q[3];\\nh q[0];\\nh q[1];\\nh q[2];\\nh q[5];\\nx q[0];\\nx q[1];\\nx q[2];\\nmcmt q[0],q[1],q[2];\\nx q[0];\\nx q[1];\\nx q[2];\\nh q[0];\\nh q[1];\\nh q[2];\\n\"",
       "editable": false,
       "layout": "IPY_MODEL_03e8bd9875554173a9ea8973eb173844",
       "qiskit_code_cell_index": -1
      }
     },
     "811e3daa52054245880c613830d21357": {
      "model_module": "@quantum/lab-widgets",
      "model_module_version": "4.0.6",
      "model_name": "CircuitComposerModel",
      "state": {
       "circuit": "\"OPENQASM 2.0;\\ninclude \\\"qelib1.inc\\\";\\nqreg q[6];\\ncreg c[2];\\nh q[0];\\nh q[1];\\nx q[5];\\nh q[5];\\n\"",
       "editable": false,
       "layout": "IPY_MODEL_e16fc59e6af44e3498ce08ad019f5b90",
       "qiskit_code_cell_index": -1
      }
     },
     "81d7c405fd904230a5fe1edfa52fcc36": {
      "model_module": "@quantum/lab-widgets",
      "model_module_version": "4.0.6",
      "model_name": "CircuitComposerModel",
      "state": {
       "circuit": "\"OPENQASM 2.0;\\ninclude \\\"qelib1.inc\\\";\\nqreg q[6];\\ncreg c[3];\\nh q[0];\\nh q[1];\\nh q[2];\\nx q[5];\\nh q[5];\\n\"",
       "editable": false,
       "layout": "IPY_MODEL_e2cd3782f15340338646ddc0089340e4",
       "qiskit_code_cell_index": -1
      }
     },
     "87e6c062175d4080bda9c531c3dba406": {
      "model_module": "@jupyter-widgets/base",
      "model_module_version": "1.2.0",
      "model_name": "LayoutModel",
      "state": {}
     },
     "8812b21cf54c4b018d1bf1ed2daff077": {
      "model_module": "@quantum/lab-widgets",
      "model_module_version": "4.0.6",
      "model_name": "CircuitComposerModel",
      "state": {
       "circuit": "\"OPENQASM 2.0;\\ninclude \\\"qelib1.inc\\\";\\ngate mcmt q0,q1,q2 { ccz q0,q1,q2; }\\nqreg q[5];\\ncreg c[3];\\nh q[0];\\nh q[1];\\nh q[2];\\nx q[4];\\nh q[4];\\nx q[1];\\nx q[2];\\nccx q[1],q[2],q[3];\\ncx q[1],q[3];\\ncx q[2],q[3];\\nx q[1];\\nx q[2];\\nx q[0];\\nccx q[0],q[3],q[4];\\nx q[1];\\nx q[2];\\nx q[1];\\ncx q[2],q[3];\\ncx q[1],q[3];\\nccx q[1],q[2],q[3];\\nx q[2];\\nx q[1];\\nh q[0];\\nh q[1];\\nh q[2];\\nh q[4];\\nx q[0];\\nx q[1];\\nx q[2];\\nmcmt q[0],q[1],q[2];\\nx q[0];\\nx q[1];\\nx q[2];\\nh q[0];\\nh q[1];\\nh q[2];\\n\"",
       "editable": false,
       "layout": "IPY_MODEL_ecbdb751a65c49bb870aa0535f38b4ef",
       "qiskit_code_cell_index": -1
      }
     },
     "89bbed65f75e43f78ef817c0f4b327e9": {
      "model_module": "@quantum/lab-widgets",
      "model_module_version": "4.0.6",
      "model_name": "CircuitComposerModel",
      "state": {
       "circuit": "\"OPENQASM 2.0;\\ninclude \\\"qelib1.inc\\\";\\nqreg q[6];\\ncreg c[3];\\nh q[0];\\nh q[1];\\nh q[2];\\nx q[5];\\nh q[5];\\nccx q[0],q[1],q[3];\\ncx q[0],q[3];\\ncx q[1],q[3];\\nx q[1];\\nx q[2];\\nccx q[1],q[2],q[4];\\ncx q[1],q[4];\\ncx q[2],q[4];\\nx q[1];\\nx q[2];\\nccx q[3],q[4],q[5];\\nx q[2];\\nx q[1];\\ncx q[2],q[4];\\ncx q[1],q[4];\\nccx q[1],q[2],q[4];\\nx q[2];\\nx q[1];\\ncx q[1],q[3];\\ncx q[0],q[3];\\nccx q[0],q[1],q[3];\\nh q[0];\\nh q[1];\\nh q[2];\\nh q[5];\\n\"",
       "editable": false,
       "layout": "IPY_MODEL_cf754609370541f1988b828039d1d60f",
       "qiskit_code_cell_index": -1
      }
     },
     "8b109c7270b1464bb05579bfad23a890": {
      "model_module": "@jupyter-widgets/base",
      "model_module_version": "1.2.0",
      "model_name": "LayoutModel",
      "state": {}
     },
     "99d65b909133475e8b82d511613dc4e0": {
      "model_module": "@jupyter-widgets/base",
      "model_module_version": "1.2.0",
      "model_name": "LayoutModel",
      "state": {}
     },
     "9d5af335c8d84cac8cb78447036c679f": {
      "model_module": "@quantum/lab-widgets",
      "model_module_version": "4.0.6",
      "model_name": "CircuitComposerModel",
      "state": {
       "circuit": "\"OPENQASM 2.0;\\ninclude \\\"qelib1.inc\\\";\\ngate mcx q0,q1,q2,q3 { h q3; p(pi/8) q0; p(pi/8) q1; p(pi/8) q2; p(pi/8) q3; cx q0,q1; p(-pi/8) q1; cx q0,q1; cx q1,q2; p(-pi/8) q2; cx q0,q2; p(pi/8) q2; cx q1,q2; p(-pi/8) q2; cx q0,q2; cx q2,q3; p(-pi/8) q3; cx q1,q3; p(pi/8) q3; cx q2,q3; p(-pi/8) q3; cx q0,q3; p(pi/8) q3; cx q2,q3; p(-pi/8) q3; cx q1,q3; p(pi/8) q3; cx q2,q3; p(-pi/8) q3; cx q0,q3; h q3; }\\ngate mcmt q0,q1 { cz q0,q1; }\\nqreg q[6];\\ncreg c[2];\\nh q[0];\\nh q[1];\\nx q[5];\\nh q[5];\\nccx q[0],q[1],q[2];\\ncx q[0],q[2];\\ncx q[1],q[2];\\nx q[1];\\nccx q[0],q[1],q[3];\\ncx q[0],q[3];\\ncx q[1],q[3];\\nx q[1];\\nx q[0];\\nccx q[0],q[1],q[4];\\ncx q[0],q[4];\\ncx q[1],q[4];\\nx q[0];\\nmcx q[2],q[3],q[4],q[5];\\nx q[0];\\ncx q[1],q[4];\\ncx q[0],q[4];\\nccx q[0],q[1],q[4];\\nx q[0];\\nx q[1];\\ncx q[1],q[3];\\ncx q[0],q[3];\\nccx q[0],q[1],q[3];\\nx q[1];\\ncx q[1],q[2];\\ncx q[0],q[2];\\nccx q[0],q[1],q[2];\\nh q[0];\\nh q[1];\\nh q[5];\\nx q[0];\\nx q[1];\\nmcmt q[0],q[1];\\nx q[0];\\nx q[1];\\nh q[0];\\nh q[1];\\n\"",
       "editable": false,
       "layout": "IPY_MODEL_251ec5ec4d554aaea82dc53a5ed9b542",
       "qiskit_code_cell_index": -1
      }
     },
     "9e24b8d434b648ae86146dfe12cb7b57": {
      "model_module": "@quantum/lab-widgets",
      "model_module_version": "4.0.6",
      "model_name": "CircuitComposerModel",
      "state": {
       "circuit": "\"OPENQASM 2.0;\\ninclude \\\"qelib1.inc\\\";\\nqreg q[6];\\ncreg c[3];\\nh q[0];\\nh q[1];\\nh q[2];\\nx q[5];\\nh q[5];\\n\"",
       "editable": false,
       "layout": "IPY_MODEL_e3a6c01483b447ddb1919653e1387909",
       "qiskit_code_cell_index": -1
      }
     },
     "9e3f3893013b4f9fae96aeee707c098f": {
      "model_module": "@jupyter-widgets/base",
      "model_module_version": "1.2.0",
      "model_name": "LayoutModel",
      "state": {}
     },
     "9eafccbebcd34ab7a626c292bc66328a": {
      "model_module": "@jupyter-widgets/base",
      "model_module_version": "1.2.0",
      "model_name": "LayoutModel",
      "state": {}
     },
     "a8872620c00f4133a6010e01baac9a38": {
      "model_module": "@jupyter-widgets/base",
      "model_module_version": "1.2.0",
      "model_name": "LayoutModel",
      "state": {}
     },
     "ad0bb1fb08574589a2868811928390ce": {
      "model_module": "@jupyter-widgets/base",
      "model_module_version": "1.2.0",
      "model_name": "LayoutModel",
      "state": {}
     },
     "b125861a908c4d0a87777ee51bc91639": {
      "model_module": "@jupyter-widgets/base",
      "model_module_version": "1.2.0",
      "model_name": "LayoutModel",
      "state": {}
     },
     "b136b4e18c7c4b74ab5ee006eeb90caf": {
      "model_module": "@quantum/lab-widgets",
      "model_module_version": "4.0.6",
      "model_name": "CircuitComposerModel",
      "state": {
       "circuit": "\"OPENQASM 2.0;\\ninclude \\\"qelib1.inc\\\";\\nqreg q[6];\\ncreg c[3];\\nh q[0];\\nh q[1];\\nh q[2];\\nx q[5];\\nh q[5];\\n\"",
       "editable": false,
       "layout": "IPY_MODEL_22a9594b829c4bffb9f4c1a461accf0d",
       "qiskit_code_cell_index": -1
      }
     },
     "b21d7aa626a14065ad218350b37481a0": {
      "model_module": "@quantum/lab-widgets",
      "model_module_version": "4.0.6",
      "model_name": "CircuitComposerModel",
      "state": {
       "circuit": "\"OPENQASM 2.0;\\ninclude \\\"qelib1.inc\\\";\\ngate mcx q0,q1,q2,q3 { h q3; p(pi/8) q0; p(pi/8) q1; p(pi/8) q2; p(pi/8) q3; cx q0,q1; p(-pi/8) q1; cx q0,q1; cx q1,q2; p(-pi/8) q2; cx q0,q2; p(pi/8) q2; cx q1,q2; p(-pi/8) q2; cx q0,q2; cx q2,q3; p(-pi/8) q3; cx q1,q3; p(pi/8) q3; cx q2,q3; p(-pi/8) q3; cx q0,q3; p(pi/8) q3; cx q2,q3; p(-pi/8) q3; cx q1,q3; p(pi/8) q3; cx q2,q3; p(-pi/8) q3; cx q0,q3; h q3; }\\nqreg q[6];\\ncreg c[2];\\nh q[0];\\nh q[1];\\nx q[5];\\nh q[5];\\nccx q[0],q[1],q[2];\\ncx q[0],q[2];\\ncx q[1],q[2];\\nx q[1];\\nccx q[0],q[1],q[3];\\ncx q[0],q[3];\\ncx q[1],q[3];\\nx q[1];\\nx q[0];\\nccx q[0],q[1],q[4];\\ncx q[0],q[4];\\ncx q[1],q[4];\\nx q[0];\\nmcx q[2],q[3],q[4],q[5];\\nx q[0];\\ncx q[1],q[4];\\ncx q[0],q[4];\\nccx q[0],q[1],q[4];\\nx q[0];\\nx q[1];\\ncx q[1],q[3];\\ncx q[0],q[3];\\nccx q[0],q[1],q[3];\\nx q[1];\\ncx q[1],q[2];\\ncx q[0],q[2];\\nccx q[0],q[1],q[2];\\nh q[0];\\nh q[1];\\nh q[5];\\n\"",
       "editable": false,
       "layout": "IPY_MODEL_f63ae04e265c49e6b74a3b680fa4f6a4",
       "qiskit_code_cell_index": -1
      }
     },
     "b3d57d91c0584438ad8786e861fb1d84": {
      "model_module": "@jupyter-widgets/base",
      "model_module_version": "1.2.0",
      "model_name": "LayoutModel",
      "state": {}
     },
     "b6fc016073aa4e58a41961e227c810fe": {
      "model_module": "@jupyter-widgets/base",
      "model_module_version": "1.2.0",
      "model_name": "LayoutModel",
      "state": {}
     },
     "b7bc0e2699634a9d8c9c681ac9607adc": {
      "model_module": "@jupyter-widgets/base",
      "model_module_version": "1.2.0",
      "model_name": "LayoutModel",
      "state": {}
     },
     "ba778b98a12340c0856956969477698f": {
      "model_module": "@jupyter-widgets/base",
      "model_module_version": "1.2.0",
      "model_name": "LayoutModel",
      "state": {}
     },
     "bbd1776a8585436dbe61971add8d7b6e": {
      "model_module": "@jupyter-widgets/base",
      "model_module_version": "1.2.0",
      "model_name": "LayoutModel",
      "state": {}
     },
     "c4e641bd19e446fab639cc955f4778c0": {
      "model_module": "@quantum/lab-widgets",
      "model_module_version": "4.0.6",
      "model_name": "CircuitComposerModel",
      "state": {
       "circuit": "\"OPENQASM 2.0;\\ninclude \\\"qelib1.inc\\\";\\nqreg q[6];\\ncreg c[2];\\nh q[0];\\nh q[1];\\nx q[5];\\nh q[5];\\n\"",
       "editable": false,
       "layout": "IPY_MODEL_567cf1dfbed54a42969be1c6d0b7d60e",
       "qiskit_code_cell_index": -1
      }
     },
     "c7764e658615468cb80bb3e94d16ce00": {
      "model_module": "@quantum/lab-widgets",
      "model_module_version": "4.0.6",
      "model_name": "CircuitComposerModel",
      "state": {
       "circuit": "\"OPENQASM 2.0;\\ninclude \\\"qelib1.inc\\\";\\ngate mcmt q0,q1,q2 { ccz q0,q1,q2; }\\nqreg q[6];\\ncreg c[3];\\nh q[0];\\nh q[1];\\nh q[2];\\nx q[5];\\nh q[5];\\nccx q[0],q[1],q[3];\\ncx q[0],q[3];\\ncx q[1],q[3];\\nx q[1];\\nx q[2];\\nccx q[1],q[2],q[4];\\ncx q[1],q[4];\\ncx q[2],q[4];\\nx q[1];\\nx q[2];\\nccx q[3],q[4],q[5];\\nx q[2];\\nx q[1];\\ncx q[2],q[4];\\ncx q[1],q[4];\\nccx q[1],q[2],q[4];\\nx q[2];\\nx q[1];\\ncx q[1],q[3];\\ncx q[0],q[3];\\nccx q[0],q[1],q[3];\\nh q[0];\\nh q[1];\\nh q[2];\\nh q[5];\\nx q[0];\\nx q[1];\\nx q[2];\\nh q[0];\\nh q[1];\\nh q[2];\\nmcmt q[0],q[1],q[5];\\n\"",
       "editable": false,
       "layout": "IPY_MODEL_475b5d882d8f4ddcb25194ee7ca55848",
       "qiskit_code_cell_index": -1
      }
     },
     "cb4d2169bd74456bb9152a9f815b96e4": {
      "model_module": "@jupyter-widgets/base",
      "model_module_version": "1.2.0",
      "model_name": "LayoutModel",
      "state": {}
     },
     "cf754609370541f1988b828039d1d60f": {
      "model_module": "@jupyter-widgets/base",
      "model_module_version": "1.2.0",
      "model_name": "LayoutModel",
      "state": {}
     },
     "d13fe056facf48139c3e7ed8cbee4604": {
      "model_module": "@quantum/lab-widgets",
      "model_module_version": "4.0.6",
      "model_name": "CircuitComposerModel",
      "state": {
       "circuit": "\"OPENQASM 2.0;\\ninclude \\\"qelib1.inc\\\";\\nqreg q[6];\\ncreg c[3];\\nh q[0];\\nh q[1];\\nh q[2];\\nx q[5];\\nh q[5];\\n\"",
       "editable": false,
       "layout": "IPY_MODEL_252fca223084413f84afb1286d56649f",
       "qiskit_code_cell_index": -1
      }
     },
     "d690795af7fa4f25a0e5a4f1b8330582": {
      "model_module": "@quantum/lab-widgets",
      "model_module_version": "4.0.6",
      "model_name": "CircuitComposerModel",
      "state": {
       "circuit": "\"OPENQASM 2.0;\\ninclude \\\"qelib1.inc\\\";\\ngate mcmt q0,q1,q2 { ccz q0,q1,q2; }\\nqreg q[6];\\ncreg c[3];\\nh q[0];\\nh q[1];\\nh q[2];\\nx q[5];\\nh q[5];\\nccx q[0],q[1],q[3];\\ncx q[0],q[3];\\ncx q[1],q[3];\\nx q[1];\\nx q[2];\\nccx q[1],q[2],q[4];\\ncx q[1],q[4];\\ncx q[2],q[4];\\nx q[1];\\nx q[2];\\nccx q[3],q[4],q[5];\\nx q[2];\\nx q[1];\\ncx q[2],q[4];\\ncx q[1],q[4];\\nccx q[1],q[2],q[4];\\nx q[2];\\nx q[1];\\ncx q[1],q[3];\\ncx q[0],q[3];\\nccx q[0],q[1],q[3];\\nh q[0];\\nh q[1];\\nh q[2];\\nh q[5];\\nx q[0];\\nx q[1];\\nx q[2];\\nmcmt q[0],q[1],q[5];\\nx q[0];\\nx q[1];\\nx q[2];\\nh q[0];\\nh q[1];\\nh q[2];\\n\"",
       "editable": false,
       "layout": "IPY_MODEL_b3d57d91c0584438ad8786e861fb1d84",
       "qiskit_code_cell_index": -1
      }
     },
     "d7ca2383128f493c9f395972ae1bf07f": {
      "model_module": "@quantum/lab-widgets",
      "model_module_version": "4.0.6",
      "model_name": "CircuitComposerModel",
      "state": {
       "circuit": "\"OPENQASM 2.0;\\ninclude \\\"qelib1.inc\\\";\\nqreg q[6];\\ncreg c[3];\\nh q[0];\\nh q[1];\\nh q[2];\\nx q[5];\\nh q[5];\\nccx q[0],q[1],q[3];\\ncx q[0],q[3];\\ncx q[1],q[3];\\nx q[1];\\nx q[2];\\nccx q[1],q[2],q[4];\\ncx q[1],q[4];\\ncx q[2],q[4];\\nx q[1];\\nx q[2];\\nccx q[3],q[4],q[5];\\nx q[2];\\nx q[1];\\ncx q[2],q[4];\\ncx q[1],q[4];\\nccx q[1],q[2],q[4];\\nx q[2];\\nx q[1];\\ncx q[1],q[3];\\ncx q[0],q[3];\\nccx q[0],q[1],q[3];\\nh q[0];\\nh q[1];\\nh q[2];\\nh q[5];\\n\"",
       "editable": false,
       "layout": "IPY_MODEL_58e8d5a9715640879f07993dc847aed5",
       "qiskit_code_cell_index": -1
      }
     },
     "dd49f3c97f1a49538911affc6301d7f1": {
      "model_module": "@quantum/lab-widgets",
      "model_module_version": "4.0.6",
      "model_name": "CircuitComposerModel",
      "state": {
       "circuit": "\"OPENQASM 2.0;\\ninclude \\\"qelib1.inc\\\";\\ngate mcmt q0,q1,q2 { ccz q0,q1,q2; }\\nqreg q[5];\\ncreg c[3];\\nh q[0];\\nh q[1];\\nh q[2];\\nx q[4];\\nh q[4];\\nx q[1];\\nx q[2];\\nccx q[1],q[2],q[3];\\ncx q[1],q[3];\\ncx q[2],q[3];\\nx q[1];\\nx q[2];\\nx q[0];\\nccx q[0],q[3],q[4];\\nx q[0];\\nx q[2];\\nx q[1];\\ncx q[2],q[3];\\ncx q[1],q[3];\\nccx q[1],q[2],q[3];\\nx q[2];\\nx q[1];\\nh q[0];\\nh q[1];\\nh q[2];\\nh q[4];\\nx q[0];\\nx q[1];\\nx q[2];\\nmcmt q[0],q[1],q[2];\\nx q[0];\\nx q[1];\\nx q[2];\\nh q[0];\\nh q[1];\\nh q[2];\\n\"",
       "editable": false,
       "layout": "IPY_MODEL_69a0e3048108467387ca73accea5c665",
       "qiskit_code_cell_index": -1
      }
     },
     "e16fc59e6af44e3498ce08ad019f5b90": {
      "model_module": "@jupyter-widgets/base",
      "model_module_version": "1.2.0",
      "model_name": "LayoutModel",
      "state": {}
     },
     "e2cd3782f15340338646ddc0089340e4": {
      "model_module": "@jupyter-widgets/base",
      "model_module_version": "1.2.0",
      "model_name": "LayoutModel",
      "state": {}
     },
     "e3064c996f294de0bb08afc151f5f5a1": {
      "model_module": "@quantum/lab-widgets",
      "model_module_version": "4.0.6",
      "model_name": "CircuitComposerModel",
      "state": {
       "circuit": "\"OPENQASM 2.0;\\ninclude \\\"qelib1.inc\\\";\\nqreg q[6];\\ncreg c[3];\\nh q[0];\\nh q[1];\\nh q[2];\\nx q[5];\\nh q[5];\\nccx q[0],q[1],q[3];\\ncx q[0],q[3];\\ncx q[1],q[3];\\nx q[1];\\nx q[2];\\nccx q[1],q[2],q[4];\\ncx q[1],q[4];\\ncx q[2],q[4];\\nx q[1];\\nx q[2];\\nccx q[3],q[4],q[5];\\nx q[2];\\nx q[1];\\ncx q[2],q[4];\\ncx q[1],q[4];\\nccx q[1],q[2],q[4];\\nx q[2];\\nx q[1];\\ncx q[1],q[3];\\ncx q[0],q[3];\\nccx q[0],q[1],q[3];\\nh q[0];\\nh q[1];\\nh q[2];\\nh q[5];\\n\"",
       "editable": false,
       "layout": "IPY_MODEL_0b2933a56abd42f0b5c4112c652804c5",
       "qiskit_code_cell_index": -1
      }
     },
     "e3a6c01483b447ddb1919653e1387909": {
      "model_module": "@jupyter-widgets/base",
      "model_module_version": "1.2.0",
      "model_name": "LayoutModel",
      "state": {}
     },
     "e7dc565824b84e54bb96f2906b66a9de": {
      "model_module": "@quantum/lab-widgets",
      "model_module_version": "4.0.6",
      "model_name": "CircuitComposerModel",
      "state": {
       "circuit": "\"OPENQASM 2.0;\\ninclude \\\"qelib1.inc\\\";\\ngate mcx q0,q1,q2,q3 { h q3; p(pi/8) q0; p(pi/8) q1; p(pi/8) q2; p(pi/8) q3; cx q0,q1; p(-pi/8) q1; cx q0,q1; cx q1,q2; p(-pi/8) q2; cx q0,q2; p(pi/8) q2; cx q1,q2; p(-pi/8) q2; cx q0,q2; cx q2,q3; p(-pi/8) q3; cx q1,q3; p(pi/8) q3; cx q2,q3; p(-pi/8) q3; cx q0,q3; p(pi/8) q3; cx q2,q3; p(-pi/8) q3; cx q1,q3; p(pi/8) q3; cx q2,q3; p(-pi/8) q3; cx q0,q3; h q3; }\\nqreg q[6];\\ncreg c[2];\\nh q[0];\\nh q[1];\\nx q[5];\\nh q[5];\\nccx q[0],q[1],q[2];\\ncx q[0],q[2];\\ncx q[1],q[2];\\nx q[1];\\nccx q[0],q[1],q[3];\\ncx q[0],q[3];\\ncx q[1],q[3];\\nx q[1];\\nx q[0];\\nccx q[0],q[1],q[4];\\ncx q[0],q[4];\\ncx q[1],q[4];\\nx q[0];\\nmcx q[2],q[3],q[4],q[5];\\nx q[0];\\ncx q[1],q[4];\\ncx q[0],q[4];\\nccx q[0],q[1],q[4];\\nx q[0];\\nx q[1];\\ncx q[1],q[3];\\ncx q[0],q[3];\\nccx q[0],q[1],q[3];\\nx q[1];\\ncx q[1],q[2];\\ncx q[0],q[2];\\nccx q[0],q[1],q[2];\\nh q[0];\\nh q[1];\\nh q[5];\\n\"",
       "editable": false,
       "layout": "IPY_MODEL_a8872620c00f4133a6010e01baac9a38",
       "qiskit_code_cell_index": -1
      }
     },
     "ecbdb751a65c49bb870aa0535f38b4ef": {
      "model_module": "@jupyter-widgets/base",
      "model_module_version": "1.2.0",
      "model_name": "LayoutModel",
      "state": {}
     },
     "eddcec3f8ca04ad8b2c70919c0c3f98d": {
      "model_module": "@quantum/lab-widgets",
      "model_module_version": "4.0.6",
      "model_name": "CircuitComposerModel",
      "state": {
       "circuit": "\"OPENQASM 2.0;\\ninclude \\\"qelib1.inc\\\";\\ngate mcx q0,q1,q2,q3 { h q3; p(pi/8) q0; p(pi/8) q1; p(pi/8) q2; p(pi/8) q3; cx q0,q1; p(-pi/8) q1; cx q0,q1; cx q1,q2; p(-pi/8) q2; cx q0,q2; p(pi/8) q2; cx q1,q2; p(-pi/8) q2; cx q0,q2; cx q2,q3; p(-pi/8) q3; cx q1,q3; p(pi/8) q3; cx q2,q3; p(-pi/8) q3; cx q0,q3; p(pi/8) q3; cx q2,q3; p(-pi/8) q3; cx q1,q3; p(pi/8) q3; cx q2,q3; p(-pi/8) q3; cx q0,q3; h q3; }\\ngate mcmt q0,q1 { cz q0,q1; }\\nqreg q[6];\\ncreg c[2];\\nh q[0];\\nh q[1];\\nx q[5];\\nh q[5];\\nccx q[0],q[1],q[2];\\ncx q[0],q[2];\\ncx q[1],q[2];\\nx q[1];\\nccx q[0],q[1],q[3];\\ncx q[0],q[3];\\ncx q[1],q[3];\\nx q[1];\\nx q[0];\\nccx q[0],q[1],q[4];\\ncx q[0],q[4];\\ncx q[1],q[4];\\nx q[0];\\nmcx q[2],q[3],q[4],q[5];\\nx q[0];\\ncx q[1],q[4];\\ncx q[0],q[4];\\nccx q[0],q[1],q[4];\\nx q[0];\\nx q[1];\\ncx q[1],q[3];\\ncx q[0],q[3];\\nccx q[0],q[1],q[3];\\nx q[1];\\ncx q[1],q[2];\\ncx q[0],q[2];\\nccx q[0],q[1],q[2];\\nh q[0];\\nh q[1];\\nh q[5];\\nx q[0];\\nx q[1];\\nmcmt q[0],q[1];\\nx q[0];\\nx q[1];\\nh q[0];\\nh q[1];\\n\"",
       "editable": false,
       "layout": "IPY_MODEL_87e6c062175d4080bda9c531c3dba406",
       "qiskit_code_cell_index": -1
      }
     },
     "f2b1aa0c614d4476a067d928e7022f81": {
      "model_module": "@quantum/lab-widgets",
      "model_module_version": "4.0.6",
      "model_name": "CircuitComposerModel",
      "state": {
       "circuit": "\"OPENQASM 2.0;\\ninclude \\\"qelib1.inc\\\";\\nqreg q[5];\\ncreg c[3];\\nh q[0];\\nh q[1];\\nh q[2];\\nx q[4];\\nh q[4];\\nx q[1];\\nx q[2];\\nccx q[1],q[2],q[3];\\ncx q[1],q[3];\\ncx q[2],q[3];\\nx q[1];\\nx q[2];\\nx q[0];\\nccx q[0],q[3],q[4];\\nx q[0];\\nx q[2];\\nx q[1];\\ncx q[2],q[3];\\ncx q[1],q[3];\\nccx q[1],q[2],q[3];\\nx q[2];\\nx q[1];\\nh q[0];\\nh q[1];\\nh q[2];\\nh q[4];\\n\"",
       "editable": false,
       "layout": "IPY_MODEL_ff5cc5c0934b4f1da012bfbf740d94db",
       "qiskit_code_cell_index": -1
      }
     },
     "f63ae04e265c49e6b74a3b680fa4f6a4": {
      "model_module": "@jupyter-widgets/base",
      "model_module_version": "1.2.0",
      "model_name": "LayoutModel",
      "state": {}
     },
     "f7f9e5b58d94407695c71cfdad70c7a7": {
      "model_module": "@quantum/lab-widgets",
      "model_module_version": "4.0.6",
      "model_name": "CircuitComposerModel",
      "state": {
       "circuit": "\"OPENQASM 2.0;\\ninclude \\\"qelib1.inc\\\";\\nqreg q[6];\\ncreg c[3];\\nh q[0];\\nh q[1];\\nh q[2];\\nx q[5];\\nh q[5];\\n\"",
       "editable": false,
       "layout": "IPY_MODEL_9eafccbebcd34ab7a626c292bc66328a",
       "qiskit_code_cell_index": -1
      }
     },
     "fb0679368b744e1791c25897c8885fdc": {
      "model_module": "@jupyter-widgets/base",
      "model_module_version": "1.2.0",
      "model_name": "LayoutModel",
      "state": {}
     },
     "ff5cc5c0934b4f1da012bfbf740d94db": {
      "model_module": "@jupyter-widgets/base",
      "model_module_version": "1.2.0",
      "model_name": "LayoutModel",
      "state": {}
     }
    },
    "version_major": 2,
    "version_minor": 0
   }
  }
 },
 "nbformat": 4,
 "nbformat_minor": 5
}
